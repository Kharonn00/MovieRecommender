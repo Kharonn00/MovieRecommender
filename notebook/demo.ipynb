{
 "cells": [
  {
   "cell_type": "markdown",
   "id": "8804b694",
   "metadata": {},
   "source": [
    "# 🎬 Movie Recommendation System Demo\n",
    "\n",
    "This notebook demonstrates how to use the content-based movie recommender system."
   ]
  },
  {
   "cell_type": "code",
   "execution_count": null,
   "id": "b67946cb",
   "metadata": {},
   "outputs": [],
   "source": [
    "!pip install -r ../requirements.txt"
   ]
  },
  {
   "cell_type": "markdown",
   "id": "1f98002c",
   "metadata": {},
   "source": [
    "## 📥 Load the Recommender"
   ]
  },
  {
   "cell_type": "code",
   "execution_count": null,
   "id": "f6744e45",
   "metadata": {},
   "outputs": [],
   "source": [
    "from src.recommender import MovieRecommendationSystem\n",
    "\n",
    "movies_path = '../data/tmdb_5000_movies.csv'\n",
    "credits_path = '../data/tmdb_5000_credits.csv'\n",
    "recommender = MovieRecommendationSystem(movies_path, credits_path)\n",
    "recommender.load_and_preprocess_data()\n",
    "recommender.build_similarity_matrix()"
   ]
  },
  {
   "cell_type": "markdown",
   "id": "13b222b8",
   "metadata": {},
   "source": [
    "## 🎯 Get Recommendations"
   ]
  },
  {
   "cell_type": "code",
   "execution_count": null,
   "id": "601435a6",
   "metadata": {},
   "outputs": [],
   "source": [
    "movie = 'Avatar'\n",
    "results = recommender.get_recommendations(movie)\n",
    "\n",
    "print(f\"\\n🎬 Recommendations for '{movie}':\")\n",
    "for i, rec in enumerate(results['recommendations'], 1):\n",
    "    print(f\"{i}. {rec['title']} (Rating: {rec['rating']}, Similarity: {rec['similarity_score']})\")"
   ]
  }
 ],
 "metadata": {},
 "nbformat": 4,
 "nbformat_minor": 5
}