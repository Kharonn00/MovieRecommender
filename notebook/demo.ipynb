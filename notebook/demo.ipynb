{
 "cells": [
  {
   "cell_type": "markdown",
   "id": "8804b694",
   "metadata": {},
   "source": [
    "# 🎬 Movie Recommendation System Demo\n",
    "\n",
    "This notebook demonstrates how to use the content-based movie recommender system **with data validation checks**."
   ]
  },
  {
   "cell_type": "code",
   "execution_count": null,
   "id": "b67946cb",
   "metadata": {},
   "outputs": [],
   "source": [
    "!pip install -r ../requirements.txt"
   ]
  },
  {
   "cell_type": "markdown",
   "id": "1f98002c",
   "metadata": {},
   "source": [
    "## 📥 Load the Recommender (With Validation)"
   ]
  },
  {
   "cell_type": "code",
   "execution_count": null,
   "id": "f6744e45",
   "metadata": {},
   "outputs": [],
   "source": [
    "from src.movies import MovieRecommendationSystem\n",
    "import pandas as pd\n",
    "\n",
    "# ---- Data Loading with Validation ----\n",
    "def validate_data(movies_path, credits_path):\n",
    "    \"\"\"Checks for missing values, duplicates, and data types.\"\"\"\n",
    "    try:\n",
    "        movies = pd.read_csv(movies_path)\n",
    "        credits = pd.read_csv(credits_path)\n",
    "    except FileNotFoundError as e:\n",
    "        raise FileNotFoundError(f\"Data file missing: {e}\")\n",
    "\n",
    "    # Check for missing values\n",
    "    for df, name in [(movies, \"Movies\"), (credits, \"Credits\")]:\n",
    "        print(f\"\\n{name} data - Missing values:\")\n",
    "        print(df.isnull().sum())\n",
    "        df.dropna(subset=['title'], inplace=True)  # Critical field\n",
    "\n",
    "    # Check for duplicates\n",
    "    if movies.duplicated(subset=['title']).any():\n",
    "        print(\"\\n⚠ Warning: Duplicate movie titles found. Dropping duplicates.\")\n",
    "        movies.drop_duplicates(subset=['title'], inplace=True)\n",
    "\n",
    "    return movies, credits\n",
    "\n",
    "# Load data with validation\n",
    "movies_path = '../data/tmdb_5000_movies.csv'\n",
    "credits_path = '../data/tmdb_5000_credits.csv'\n",
    "movies, credits = validate_data(movies_path, credits_path)\n",
    "\n",
    "# Initialize recommender\n",
    "recommender = MovieRecommendationSystem(movies_path, credits_path)\n",
    "recommender.load_and_preprocess_data()\n",
    "recommender.build_similarity_matrix()"
   ]
  },
  {
   "cell_type": "markdown",
   "id": "13b222b8",
   "metadata": {},
   "source": [
    "## 🎯 Get Recommendations"
   ]
  },
  {
   "cell_type": "code",
   "execution_count": null,
   "id": "601435a6",
   "metadata": {},
   "outputs": [],
   "source": [
    "movie = 'Avatar'\n",
    "try:\n",
    "    results = recommender.get_recommendations(movie)\n",
    "    if not results['recommendations']:\n",
    "        print(f\"\\n❌ No recommendations found for '{movie}'. Is the title correct?\")\n",
    "    else:\n",
    "        print(f\"\\n🎬 Recommendations for '{movie}':\")\n",
    "        for i, rec in enumerate(results['recommendations'], 1):\n",
    "            print(f\"{i}. {rec['title']} (Similarity: {rec['similarity_score']:.2f})\")\n",
    "except KeyError:\n",
    "    print(f\"\\n❌ Movie '{movie}' not found in dataset. Check spelling or try another title.\")"
   ]
  }
 ],
 "metadata": {},
 "nbformat": 4,
 "nbformat_minor": 5
}
